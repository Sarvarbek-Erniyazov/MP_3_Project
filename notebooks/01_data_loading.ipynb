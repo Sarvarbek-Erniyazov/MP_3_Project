version https://git-lfs.github.com/spec/v1
oid sha256:4f20159390bcd5812ab31b2582e572d5130db7121125812226cde8ecc7cf0951
size 387362
